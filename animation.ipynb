{
 "cells": [
  {
   "cell_type": "markdown",
   "id": "079f4524",
   "metadata": {},
   "source": [
    "# Animations\n",
    "\n",
    "`emsarray` can produce simple animated plots.\n",
    "This can be useful to visualise the change of sea surface temperature over time, for example."
   ]
  },
  {
   "cell_type": "code",
   "execution_count": null,
   "id": "0f5fbec3",
   "metadata": {},
   "outputs": [],
   "source": [
    "import datetime\n",
    "import emsarray\n",
    "from matplotlib.figure import Figure\n",
    "from IPython.display import HTML"
   ]
  },
  {
   "cell_type": "markdown",
   "id": "51461bbd",
   "metadata": {},
   "source": [
    "Set up the environment..."
   ]
  },
  {
   "cell_type": "code",
   "execution_count": null,
   "id": "2cb2be9c",
   "metadata": {},
   "outputs": [],
   "source": [
    "%matplotlib notebook\n",
    "\n",
    "# The coastlines used in the maps have some bad polygons,\n",
    "# which causes some warnings. Lets turn those off.\n",
    "import shapefile\n",
    "shapefile.VERBOSE = False"
   ]
  },
  {
   "cell_type": "markdown",
   "id": "6e0def16",
   "metadata": {},
   "source": [
    "`emsarray` can produce animations for any of the supported file formats.\n",
    "For this example, we will start with an unstructured grid (COMPASS) file."
   ]
  },
  {
   "cell_type": "code",
   "execution_count": null,
   "id": "716725ec",
   "metadata": {
    "scrolled": true
   },
   "outputs": [],
   "source": [
    "austen = emsarray.tutorial.open_dataset(\"austen\")\n",
    "austen"
   ]
  },
  {
   "cell_type": "code",
   "execution_count": null,
   "id": "77c63a3d",
   "metadata": {},
   "outputs": [],
   "source": [
    "# Create the animation\n",
    "from emsarray.utils import datetime_from_np_time\n",
    "\n",
    "def make_title(np_time):\n",
    "    \"\"\"Generate a title for a frame of animation.\"\"\"\n",
    "    long_name = \"Sea surface height\"\n",
    "    py_time = datetime_from_np_time(np_time)\n",
    "    return f'{long_name}\\nTime: {py_time:%Y-%m-%d %H:%M}'\n",
    "\n",
    "\n",
    "anim = austen.ems.animate_on_figure(\n",
    "    figure=Figure(figsize=(8, 5), dpi=100),\n",
    "    title=make_title,\n",
    "    scalar='eta',\n",
    "    interval=500)\n",
    "\n",
    "HTML(anim.to_jshtml())"
   ]
  },
  {
   "cell_type": "markdown",
   "id": "d5c387fa",
   "metadata": {},
   "source": [
    "## Animate across a different axis\n",
    "\n",
    "With multidimensional data, you can choose which axis to animate over.\n",
    "For example, you can animate the temperature at one particular time across all depths.\n",
    "\n",
    "For this example, let us use the Oceanmap example file."
   ]
  },
  {
   "cell_type": "code",
   "execution_count": null,
   "id": "6eeb92fe",
   "metadata": {},
   "outputs": [],
   "source": [
    "oceanmap = emsarray.tutorial.open_dataset('bran2020')\n",
    "oceanmap"
   ]
  },
  {
   "cell_type": "code",
   "execution_count": null,
   "id": "2c824296",
   "metadata": {},
   "outputs": [],
   "source": [
    "depth_anim = oceanmap.isel(Time=0).ems.animate_on_figure(\n",
    "    figure=Figure(figsize=(8, 5), dpi=100),\n",
    "    scalar='temp', interval=100, repeat='bounce',\n",
    "    coordinate='st_ocean',\n",
    "    title='Potential temperature\\nDepth: {:.2f}m')"
   ]
  },
  {
   "cell_type": "code",
   "execution_count": null,
   "id": "71c5e66c",
   "metadata": {},
   "outputs": [],
   "source": [
    "HTML(depth_anim.to_jshtml())"
   ]
  },
  {
   "cell_type": "markdown",
   "id": "4c5859c7",
   "metadata": {},
   "source": [
    "## Creating videos\n",
    "\n",
    "Animations can be rendered to video files in two different ways.\n",
    "Both approaches require `ffmpeg` to be installed.\n",
    "If you do not already have this installed, you can install it with:\n",
    "\n",
    "```shell\n",
    "$ conda install ffmpeg\n",
    "```\n",
    "\n",
    "You can render to an embeded video by calling `anim.to_html5_video()` instead."
   ]
  },
  {
   "cell_type": "code",
   "execution_count": null,
   "id": "dbc28b3d",
   "metadata": {},
   "outputs": [],
   "source": [
    "HTML(depth_anim.to_html5_video())"
   ]
  },
  {
   "cell_type": "markdown",
   "id": "852d3f56",
   "metadata": {},
   "source": [
    "You can export the animation to a file using `anim.save()`."
   ]
  },
  {
   "cell_type": "code",
   "execution_count": null,
   "id": "af4d6312",
   "metadata": {},
   "outputs": [],
   "source": [
    "import os.path\n",
    "animation_path = os.path.abspath(\"oceanmap-animation.mp4\")\n",
    "depth_anim.save(animation_path, writer='ffmpeg_file')\n",
    "print(\"Saved to\", animation_path)"
   ]
  }
 ],
 "metadata": {
  "kernelspec": {
   "display_name": "Python 3 (ipykernel)",
   "language": "python",
   "name": "python3"
  },
  "language_info": {
   "codemirror_mode": {
    "name": "ipython",
    "version": 3
   },
   "file_extension": ".py",
   "mimetype": "text/x-python",
   "name": "python",
   "nbconvert_exporter": "python",
   "pygments_lexer": "ipython3",
   "version": "3.12.4"
  }
 },
 "nbformat": 4,
 "nbformat_minor": 5
}
