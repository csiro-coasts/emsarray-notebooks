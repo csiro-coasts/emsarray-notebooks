{
 "cells": [
  {
   "cell_type": "markdown",
   "id": "0f472a8c-ac2d-4bff-b878-1d93af19cc72",
   "metadata": {},
   "source": [
    "# Bokeh plots\n",
    "\n",
    "This notebook shows how to draw plots of datasets using Bokeh as the backend."
   ]
  },
  {
   "cell_type": "code",
   "execution_count": null,
   "id": "57e5bbbf-be0a-4d27-8ad5-557dc4eaa815",
   "metadata": {
    "tags": []
   },
   "outputs": [],
   "source": [
    "import emsarray\n",
    "import numpy as np\n",
    "import pandas as pd\n",
    "from bokeh.io import output_notebook\n",
    "from bokeh.models import LinearColorMapper, ColorBar\n",
    "from bokeh.palettes import Viridis256\n",
    "from bokeh.plotting import figure, show\n",
    "from bokeh.transform import linear_cmap\n",
    "\n",
    "\n",
    "output_notebook()\n",
    "\n",
    "\n",
    "def wgs84_to_web_mercator(data, lon=\"lons\", lat=\"lats\"):\n",
    "    \"\"\"Converts decimal longitude/latitude to Web Mercator format\"\"\"\n",
    "    k = 6378137\n",
    "    data[\"xs\"] = [r * (k * np.pi/180.0) for r in data[\"lons\"]]\n",
    "    data[\"ys\"] = [np.log(np.tan((90 + r) * np.pi/360.0)) * k for r in data[\"lats\"]]\n",
    "    return data"
   ]
  },
  {
   "cell_type": "code",
   "execution_count": null,
   "id": "82da70b8-a07a-4a28-994b-a45ae6a9dcd5",
   "metadata": {
    "tags": []
   },
   "outputs": [],
   "source": [
    "ds = emsarray.tutorial.open_dataset(\"fraser\")\n",
    "ds"
   ]
  },
  {
   "cell_type": "code",
   "execution_count": null,
   "id": "cf512ac0-7c3e-4ab0-91e5-43656873400c",
   "metadata": {
    "tags": []
   },
   "outputs": [],
   "source": [
    "temp = ds.ems.ravel(ds['temp'].isel(time=1, k=-1))[ds.ems.mask]\n",
    "\n",
    "# Convert the dataset polygons and the scalar values in to a structure that bokeh can use\n",
    "polygons = ds.ems.polygons[ds.ems.mask]\n",
    "polygon_coords = [np.asarray(p.exterior.coords) for p in polygons]\n",
    "data = wgs84_to_web_mercator({\n",
    "    'lons': [pc[:, 0] for pc in polygon_coords],\n",
    "    'lats': [pc[:, 1] for pc in polygon_coords],\n",
    "    'temp': temp.values,\n",
    "})\n",
    "\n",
    "# Make a Bokeh figure\n",
    "fig = figure(x_axis_type=\"mercator\", y_axis_type=\"mercator\", frame_width=800, frame_height=600)\n",
    "fig.add_tile(\"CartoDB Positron\")\n",
    "\n",
    "# Add the dataset polygons\n",
    "colour = LinearColorMapper(Viridis256, low=np.nanmin(temp.values), high=np.nanmax(temp.values), nan_color=(0, 0, 0, 0))\n",
    "fig.patches(\n",
    "    'xs', 'ys', source=data,\n",
    "    fill_color={'field': 'temp', 'transform': colour},\n",
    "    line_color={'field': 'temp', 'transform': colour})\n",
    "\n",
    "# Add a colour bar\n",
    "cb = ColorBar(color_mapper=colour, title=\"Sea surface temperature\")\n",
    "fig.add_layout(cb, 'right')\n",
    "\n",
    "# Done!\n",
    "show(fig)"
   ]
  }
 ],
 "metadata": {
  "kernelspec": {
   "display_name": "Python 3 (ipykernel)",
   "language": "python",
   "name": "python3"
  },
  "language_info": {
   "codemirror_mode": {
    "name": "ipython",
    "version": 3
   },
   "file_extension": ".py",
   "mimetype": "text/x-python",
   "name": "python",
   "nbconvert_exporter": "python",
   "pygments_lexer": "ipython3",
   "version": "3.10.11"
  }
 },
 "nbformat": 4,
 "nbformat_minor": 5
}
