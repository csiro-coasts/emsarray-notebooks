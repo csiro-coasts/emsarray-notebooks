{
 "cells": [
  {
   "cell_type": "markdown",
   "id": "7ed2aca8-4beb-4351-8622-da5023ef2f29",
   "metadata": {},
   "source": [
    "# Transect plots\n",
    "\n",
    "Plot transects through your dataset. Transects are vertical slices along some path through your dataset.\n",
    "\n",
    "The following is a transect path starting in the Great Sandy Strait near K’gari, heading roughly North out to deeper waters:"
   ]
  },
  {
   "cell_type": "code",
   "execution_count": null,
   "id": "6acef173-1c4d-4177-ba24-5e8e2996a0e3",
   "metadata": {
    "tags": []
   },
   "outputs": [],
   "source": [
    "import emsarray\n",
    "import shapely\n",
    "from emsarray import plot, transect\n",
    "from matplotlib import pyplot\n",
    "\n",
    "dataset_url = 'https://dapds00.nci.org.au/thredds/dodsC/fx3/gbr4_bgc_GBR4_H2p0_B3p1_Cfur_Dnrt.ncml'\n",
    "dataset = emsarray.open_dataset(dataset_url).isel(time=-1)\n",
    "dataset = dataset.ems.select_variables(['botz', 'temp'])\n",
    "\n",
    "line = shapely.LineString([\n",
    "    [152.8417969, -24.8764699],\n",
    "    [152.5231934, -24.4571505],\n",
    "    [152.0507813, -23.9360549],\n",
    "    [151.4135742, -23.4430889],\n",
    "    [151.2597656, -22.8673180],\n",
    "    [150.8972168, -22.1365316],\n",
    "    [149.9853516, -21.6982655],\n",
    "    [149.5129395, -20.6841838],\n",
    "])\n",
    "landmarks = [\n",
    "    (\"Lady Elliot Island\", shapely.Point(152.7145958, -24.1129146)),\n",
    "    (\"Percy Isles National Park\", shapely.Point(150.2984619, -21.6982655)),\n",
    "    (\"Keswick Island\", shapely.Point(149.4059944, -20.9101345)),\n",
    "]"
   ]
  },
  {
   "cell_type": "markdown",
   "id": "857ef27c-7f2f-4c12-b43e-36bcfe74f87c",
   "metadata": {},
   "source": [
    "We can visualise the transect path:"
   ]
  },
  {
   "cell_type": "code",
   "execution_count": null,
   "id": "1e2f2a19-42aa-45b3-959f-2b78170f9c5c",
   "metadata": {
    "tags": []
   },
   "outputs": [],
   "source": [
    "figure = pyplot.figure(figsize=(10, 10))\n",
    "dataset.ems.plot_on_figure(\n",
    "    figure, 'botz', title=\"Transect path\",\n",
    "    landmarks=landmarks, gridlines=False)\n",
    "\n",
    "axes = figure.axes[0]\n",
    "axes.set_aspect('equal', 'box')\n",
    "axes.set_extent(plot.bounds_to_extent(line.envelope.buffer(0.2).bounds))\n",
    "axes.plot(*line.coords.xy)\n",
    "\n",
    "pyplot.show()"
   ]
  },
  {
   "cell_type": "markdown",
   "id": "c25cc135-c280-4ecd-8ef4-8fab2c8498db",
   "metadata": {},
   "source": [
    "A transect showing the water temperature along this plot:"
   ]
  },
  {
   "cell_type": "code",
   "execution_count": null,
   "id": "bcd6ba77-6296-4a76-bb0d-4c828f49687b",
   "metadata": {
    "tags": []
   },
   "outputs": [],
   "source": [
    "figure = transect.plot(\n",
    "    dataset, line, dataset[\"temp\"],\n",
    "    landmarks=landmarks,\n",
    "    bathymetry=dataset[\"botz\"])"
   ]
  }
 ],
 "metadata": {
  "kernelspec": {
   "display_name": "Python 3 (ipykernel)",
   "language": "python",
   "name": "python3"
  },
  "language_info": {
   "codemirror_mode": {
    "name": "ipython",
    "version": 3
   },
   "file_extension": ".py",
   "mimetype": "text/x-python",
   "name": "python",
   "nbconvert_exporter": "python",
   "pygments_lexer": "ipython3",
   "version": "3.10.11"
  }
 },
 "nbformat": 4,
 "nbformat_minor": 5
}
